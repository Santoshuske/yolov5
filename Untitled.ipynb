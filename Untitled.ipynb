{
 "cells": [
  {
   "cell_type": "code",
   "execution_count": 1,
   "id": "4bf517b5",
   "metadata": {},
   "outputs": [
    {
     "name": "stdout",
     "output_type": "stream",
     "text": [
      "Collecting torch\n",
      "  Downloading torch-1.13.0-cp39-cp39-win_amd64.whl (167.2 MB)\n",
      "     ------------------------------------ 167.2/167.2 MB 413.9 kB/s eta 0:00:00\n",
      "Requirement already satisfied: typing-extensions in c:\\users\\admin\\anaconda3\\lib\\site-packages (from torch) (4.3.0)\n",
      "Installing collected packages: torch\n",
      "Successfully installed torch-1.13.0\n"
     ]
    }
   ],
   "source": [
    "!pip install torch "
   ]
  },
  {
   "cell_type": "code",
   "execution_count": 2,
   "id": "114a8273",
   "metadata": {},
   "outputs": [],
   "source": [
    "import torch # YOLOv5 implemented using pytorch\n",
    "from IPython.display import Image #this is to render predictions"
   ]
  },
  {
   "cell_type": "code",
   "execution_count": 37,
   "id": "fefe4098",
   "metadata": {},
   "outputs": [
    {
     "name": "stderr",
     "output_type": "stream",
     "text": [
      "'git' is not recognized as an internal or external command,\n",
      "operable program or batch file.\n"
     ]
    }
   ],
   "source": [
    "!git clone -- recurse-submodules https://github.com/ultralytics/yolov5.git"
   ]
  },
  {
   "cell_type": "code",
   "execution_count": 6,
   "id": "4cdfba4c",
   "metadata": {},
   "outputs": [
    {
     "name": "stdout",
     "output_type": "stream",
     "text": [
      "C:\\Users\\admin\\yolov5\n"
     ]
    }
   ],
   "source": [
    "%cd yolov5"
   ]
  },
  {
   "cell_type": "code",
   "execution_count": 7,
   "id": "7f65c714",
   "metadata": {},
   "outputs": [
    {
     "name": "stdout",
     "output_type": "stream",
     "text": [
      "Collecting gitpython\n",
      "  Downloading GitPython-3.1.29-py3-none-any.whl (182 kB)\n",
      "     ------------------------------------ 182.5/182.5 kB 250.4 kB/s eta 0:00:00\n",
      "Requirement already satisfied: ipython in c:\\users\\admin\\anaconda3\\lib\\site-packages (from -r requirements.txt (line 6)) (7.31.1)\n",
      "Requirement already satisfied: matplotlib>=3.2.2 in c:\\users\\admin\\anaconda3\\lib\\site-packages (from -r requirements.txt (line 7)) (3.5.2)\n",
      "Requirement already satisfied: numpy>=1.18.5 in c:\\users\\admin\\anaconda3\\lib\\site-packages (from -r requirements.txt (line 8)) (1.21.5)\n",
      "Collecting opencv-python>=4.1.1\n",
      "  Downloading opencv_python-4.6.0.66-cp36-abi3-win_amd64.whl (35.6 MB)\n",
      "     -------------------------------------- 35.6/35.6 MB 523.3 kB/s eta 0:00:00\n",
      "Requirement already satisfied: Pillow>=7.1.2 in c:\\users\\admin\\anaconda3\\lib\\site-packages (from -r requirements.txt (line 10)) (9.2.0)\n",
      "Requirement already satisfied: psutil in c:\\users\\admin\\anaconda3\\lib\\site-packages (from -r requirements.txt (line 11)) (5.9.0)\n",
      "Requirement already satisfied: PyYAML>=5.3.1 in c:\\users\\admin\\anaconda3\\lib\\site-packages (from -r requirements.txt (line 12)) (6.0)\n",
      "Requirement already satisfied: requests>=2.23.0 in c:\\users\\admin\\anaconda3\\lib\\site-packages (from -r requirements.txt (line 13)) (2.28.1)\n",
      "Requirement already satisfied: scipy>=1.4.1 in c:\\users\\admin\\anaconda3\\lib\\site-packages (from -r requirements.txt (line 14)) (1.9.1)\n",
      "Collecting thop>=0.1.1\n",
      "  Downloading thop-0.1.1.post2209072238-py3-none-any.whl (15 kB)\n",
      "Requirement already satisfied: torch>=1.7.0 in c:\\users\\admin\\anaconda3\\lib\\site-packages (from -r requirements.txt (line 16)) (1.13.0)\n",
      "Collecting torchvision>=0.8.1\n",
      "  Downloading torchvision-0.14.0-cp39-cp39-win_amd64.whl (1.1 MB)\n",
      "     ---------------------------------------- 1.1/1.1 MB 662.9 kB/s eta 0:00:00\n",
      "Requirement already satisfied: tqdm>=4.64.0 in c:\\users\\admin\\anaconda3\\lib\\site-packages (from -r requirements.txt (line 18)) (4.64.1)\n",
      "Collecting tensorboard>=2.4.1\n",
      "  Downloading tensorboard-2.11.0-py3-none-any.whl (6.0 MB)\n",
      "     ---------------------------------------- 6.0/6.0 MB 830.2 kB/s eta 0:00:00\n",
      "Requirement already satisfied: pandas>=1.1.4 in c:\\users\\admin\\anaconda3\\lib\\site-packages (from -r requirements.txt (line 27)) (1.4.4)\n",
      "Requirement already satisfied: seaborn>=0.11.0 in c:\\users\\admin\\anaconda3\\lib\\site-packages (from -r requirements.txt (line 28)) (0.11.2)\n",
      "Collecting gitdb<5,>=4.0.1\n",
      "  Downloading gitdb-4.0.10-py3-none-any.whl (62 kB)\n",
      "     -------------------------------------- 62.7/62.7 kB 258.6 kB/s eta 0:00:00\n",
      "Requirement already satisfied: backcall in c:\\users\\admin\\anaconda3\\lib\\site-packages (from ipython->-r requirements.txt (line 6)) (0.2.0)\n",
      "Requirement already satisfied: prompt-toolkit!=3.0.0,!=3.0.1,<3.1.0,>=2.0.0 in c:\\users\\admin\\anaconda3\\lib\\site-packages (from ipython->-r requirements.txt (line 6)) (3.0.20)\n",
      "Requirement already satisfied: pickleshare in c:\\users\\admin\\anaconda3\\lib\\site-packages (from ipython->-r requirements.txt (line 6)) (0.7.5)\n",
      "Requirement already satisfied: jedi>=0.16 in c:\\users\\admin\\anaconda3\\lib\\site-packages (from ipython->-r requirements.txt (line 6)) (0.18.1)\n",
      "Requirement already satisfied: pygments in c:\\users\\admin\\anaconda3\\lib\\site-packages (from ipython->-r requirements.txt (line 6)) (2.11.2)\n",
      "Requirement already satisfied: traitlets>=4.2 in c:\\users\\admin\\anaconda3\\lib\\site-packages (from ipython->-r requirements.txt (line 6)) (5.1.1)\n",
      "Requirement already satisfied: setuptools>=18.5 in c:\\users\\admin\\anaconda3\\lib\\site-packages (from ipython->-r requirements.txt (line 6)) (63.4.1)\n",
      "Requirement already satisfied: matplotlib-inline in c:\\users\\admin\\anaconda3\\lib\\site-packages (from ipython->-r requirements.txt (line 6)) (0.1.6)\n",
      "Requirement already satisfied: colorama in c:\\users\\admin\\anaconda3\\lib\\site-packages (from ipython->-r requirements.txt (line 6)) (0.4.5)\n",
      "Requirement already satisfied: decorator in c:\\users\\admin\\anaconda3\\lib\\site-packages (from ipython->-r requirements.txt (line 6)) (5.1.1)\n",
      "Requirement already satisfied: cycler>=0.10 in c:\\users\\admin\\anaconda3\\lib\\site-packages (from matplotlib>=3.2.2->-r requirements.txt (line 7)) (0.11.0)\n",
      "Requirement already satisfied: fonttools>=4.22.0 in c:\\users\\admin\\anaconda3\\lib\\site-packages (from matplotlib>=3.2.2->-r requirements.txt (line 7)) (4.25.0)\n",
      "Requirement already satisfied: python-dateutil>=2.7 in c:\\users\\admin\\anaconda3\\lib\\site-packages (from matplotlib>=3.2.2->-r requirements.txt (line 7)) (2.8.2)\n",
      "Requirement already satisfied: packaging>=20.0 in c:\\users\\admin\\anaconda3\\lib\\site-packages (from matplotlib>=3.2.2->-r requirements.txt (line 7)) (21.3)\n",
      "Requirement already satisfied: pyparsing>=2.2.1 in c:\\users\\admin\\anaconda3\\lib\\site-packages (from matplotlib>=3.2.2->-r requirements.txt (line 7)) (3.0.9)\n",
      "Requirement already satisfied: kiwisolver>=1.0.1 in c:\\users\\admin\\anaconda3\\lib\\site-packages (from matplotlib>=3.2.2->-r requirements.txt (line 7)) (1.4.2)\n",
      "Requirement already satisfied: idna<4,>=2.5 in c:\\users\\admin\\anaconda3\\lib\\site-packages (from requests>=2.23.0->-r requirements.txt (line 13)) (3.3)\n",
      "Requirement already satisfied: urllib3<1.27,>=1.21.1 in c:\\users\\admin\\anaconda3\\lib\\site-packages (from requests>=2.23.0->-r requirements.txt (line 13)) (1.26.11)\n",
      "Requirement already satisfied: charset-normalizer<3,>=2 in c:\\users\\admin\\anaconda3\\lib\\site-packages (from requests>=2.23.0->-r requirements.txt (line 13)) (2.0.4)\n",
      "Requirement already satisfied: certifi>=2017.4.17 in c:\\users\\admin\\anaconda3\\lib\\site-packages (from requests>=2.23.0->-r requirements.txt (line 13)) (2022.9.14)\n",
      "Requirement already satisfied: typing-extensions in c:\\users\\admin\\anaconda3\\lib\\site-packages (from torch>=1.7.0->-r requirements.txt (line 16)) (4.3.0)\n",
      "Collecting google-auth<3,>=1.6.3\n",
      "  Downloading google_auth-2.15.0-py2.py3-none-any.whl (177 kB)\n",
      "     ------------------------------------ 177.0/177.0 kB 761.7 kB/s eta 0:00:00\n",
      "Collecting absl-py>=0.4\n",
      "  Downloading absl_py-1.3.0-py3-none-any.whl (124 kB)\n",
      "     ------------------------------------ 124.6/124.6 kB 563.3 kB/s eta 0:00:00\n",
      "Requirement already satisfied: werkzeug>=1.0.1 in c:\\users\\admin\\anaconda3\\lib\\site-packages (from tensorboard>=2.4.1->-r requirements.txt (line 22)) (2.0.3)\n",
      "Collecting google-auth-oauthlib<0.5,>=0.4.1\n",
      "  Downloading google_auth_oauthlib-0.4.6-py2.py3-none-any.whl (18 kB)\n",
      "Requirement already satisfied: markdown>=2.6.8 in c:\\users\\admin\\anaconda3\\lib\\site-packages (from tensorboard>=2.4.1->-r requirements.txt (line 22)) (3.3.4)\n",
      "Collecting tensorboard-plugin-wit>=1.6.0\n",
      "  Downloading tensorboard_plugin_wit-1.8.1-py3-none-any.whl (781 kB)\n",
      "     -------------------------------------- 781.3/781.3 kB 1.2 MB/s eta 0:00:00\n",
      "Requirement already satisfied: wheel>=0.26 in c:\\users\\admin\\anaconda3\\lib\\site-packages (from tensorboard>=2.4.1->-r requirements.txt (line 22)) (0.37.1)\n",
      "Collecting tensorboard-data-server<0.7.0,>=0.6.0\n",
      "  Downloading tensorboard_data_server-0.6.1-py3-none-any.whl (2.4 kB)\n",
      "Collecting grpcio>=1.24.3\n",
      "  Downloading grpcio-1.51.1-cp39-cp39-win_amd64.whl (3.7 MB)\n",
      "     ---------------------------------------- 3.7/3.7 MB 1.2 MB/s eta 0:00:00\n",
      "Collecting protobuf<4,>=3.9.2\n",
      "  Downloading protobuf-3.20.3-cp39-cp39-win_amd64.whl (904 kB)\n",
      "     ------------------------------------ 904.2/904.2 kB 954.1 kB/s eta 0:00:00\n",
      "Requirement already satisfied: pytz>=2020.1 in c:\\users\\admin\\anaconda3\\lib\\site-packages (from pandas>=1.1.4->-r requirements.txt (line 27)) (2022.1)\n",
      "Collecting smmap<6,>=3.0.1\n",
      "  Downloading smmap-5.0.0-py3-none-any.whl (24 kB)\n",
      "Requirement already satisfied: six>=1.9.0 in c:\\users\\admin\\anaconda3\\lib\\site-packages (from google-auth<3,>=1.6.3->tensorboard>=2.4.1->-r requirements.txt (line 22)) (1.16.0)\n",
      "Collecting rsa<5,>=3.1.4\n",
      "  Downloading rsa-4.9-py3-none-any.whl (34 kB)\n",
      "Collecting cachetools<6.0,>=2.0.0\n",
      "  Downloading cachetools-5.2.0-py3-none-any.whl (9.3 kB)\n",
      "Requirement already satisfied: pyasn1-modules>=0.2.1 in c:\\users\\admin\\anaconda3\\lib\\site-packages (from google-auth<3,>=1.6.3->tensorboard>=2.4.1->-r requirements.txt (line 22)) (0.2.8)\n",
      "Collecting requests-oauthlib>=0.7.0\n",
      "  Downloading requests_oauthlib-1.3.1-py2.py3-none-any.whl (23 kB)\n",
      "Requirement already satisfied: parso<0.9.0,>=0.8.0 in c:\\users\\admin\\anaconda3\\lib\\site-packages (from jedi>=0.16->ipython->-r requirements.txt (line 6)) (0.8.3)\n",
      "Requirement already satisfied: wcwidth in c:\\users\\admin\\anaconda3\\lib\\site-packages (from prompt-toolkit!=3.0.0,!=3.0.1,<3.1.0,>=2.0.0->ipython->-r requirements.txt (line 6)) (0.2.5)\n",
      "Requirement already satisfied: pyasn1<0.5.0,>=0.4.6 in c:\\users\\admin\\anaconda3\\lib\\site-packages (from pyasn1-modules>=0.2.1->google-auth<3,>=1.6.3->tensorboard>=2.4.1->-r requirements.txt (line 22)) (0.4.8)\n",
      "Collecting oauthlib>=3.0.0\n",
      "  Downloading oauthlib-3.2.2-py3-none-any.whl (151 kB)\n",
      "     ------------------------------------ 151.7/151.7 kB 533.8 kB/s eta 0:00:00\n",
      "Installing collected packages: tensorboard-plugin-wit, tensorboard-data-server, smmap, rsa, protobuf, opencv-python, oauthlib, grpcio, cachetools, absl-py, torchvision, thop, requests-oauthlib, google-auth, gitdb, google-auth-oauthlib, gitpython, tensorboard\n",
      "Successfully installed absl-py-1.3.0 cachetools-5.2.0 gitdb-4.0.10 gitpython-3.1.29 google-auth-2.15.0 google-auth-oauthlib-0.4.6 grpcio-1.51.1 oauthlib-3.2.2 opencv-python-4.6.0.66 protobuf-3.20.3 requests-oauthlib-1.3.1 rsa-4.9 smmap-5.0.0 tensorboard-2.11.0 tensorboard-data-server-0.6.1 tensorboard-plugin-wit-1.8.1 thop-0.1.1.post2209072238 torchvision-0.14.0\n"
     ]
    }
   ],
   "source": [
    "!pip install -r requirements.txt"
   ]
  },
  {
   "cell_type": "code",
   "execution_count": 12,
   "id": "d2b4bf08",
   "metadata": {},
   "outputs": [
    {
     "name": "stdout",
     "output_type": "stream",
     "text": [
      "training images are :  592\n",
      "Validation images are :  148\n"
     ]
    }
   ],
   "source": [
    "import os\n",
    "from random import choice\n",
    "import shutil\n",
    "\n",
    "#arrays to store file names\n",
    "imgs =[]\n",
    "xmls =[]\n",
    "\n",
    "#setup dir names\n",
    "trainPath = 'C:/Users/admin/yolov5_traffic_sign_detection/dataset/images/train'\n",
    "valPath = 'C:/Users/admin/yolov5_traffic_sign_detection/dataset/images/val'\n",
    "crsPath = 'C:/Users/admin/yolov5_traffic_sign_detection/data/ts/' #dir where images and annotations stored\n",
    "\n",
    "#setup ratio (val ratio = rest of the files in origin dir after splitting into train and test)\n",
    "train_ratio = 0.8\n",
    "val_ratio = 0.2\n",
    "\n",
    "\n",
    "#total count of imgs\n",
    "totalImgCount = len(os.listdir(crsPath))/2\n",
    "\n",
    "#soring files to corresponding arrays\n",
    "for (dirname, dirs, files) in os.walk(crsPath):\n",
    "    for filename in files:\n",
    "        if filename.endswith('.txt'):\n",
    "            xmls.append(filename)\n",
    "        else:\n",
    "            imgs.append(filename)\n",
    "\n",
    "\n",
    "#counting range for cycles\n",
    "countForTrain = int(len(imgs)*train_ratio)\n",
    "countForVal = int(len(imgs)*val_ratio)\n",
    "print(\"training images are : \",countForTrain)\n",
    "print(\"Validation images are : \",countForVal)"
   ]
  },
  {
   "cell_type": "code",
   "execution_count": 14,
   "id": "e7b6b376",
   "metadata": {},
   "outputs": [
    {
     "data": {
      "text/plain": [
       "'C:/Users/admin/yolov5_traffic_sign_detection/dataset/images/val\\\\ts'"
      ]
     },
     "execution_count": 14,
     "metadata": {},
     "output_type": "execute_result"
    }
   ],
   "source": [
    "trainimagePath = 'C:/Users/admin/yolov5_traffic_sign_detection/dataset/images/train'\n",
    "trainlabelPath = 'C:/Users/admin/yolov5_traffic_sign_detection/dataset/labels/train'\n",
    "valimagePath = 'C:/Users/admin/yolov5_traffic_sign_detection/dataset/images/val'\n",
    "vallabelPath = 'C:/Users/admin/yolov5_traffic_sign_detection/dataset/labels/val'\n",
    "#cycle for train dir\n",
    "for x in range(countForTrain):\n",
    "\n",
    "    fileJpg = choice(imgs) # get name of random image from origin dir\n",
    "    fileXml = fileJpg[:-4] +'.txt' # get name of corresponding annotation file\n",
    "\n",
    "    #move both files into train dir\n",
    "    #shutil.move(os.path.join(crsPath, fileJpg), os.path.join(trainimagePath, fileJpg))\n",
    "    #shutil.move(os.path.join(crsPath, fileXml), os.path.join(trainlabelPath, fileXml))\n",
    "    shutil.copy(os.path.join(crsPath, fileJpg), os.path.join(trainimagePath, fileJpg))\n",
    "    shutil.copy(os.path.join(crsPath, fileXml), os.path.join(trainlabelPath, fileXml))\n",
    "\n",
    "\n",
    "    #remove files from arrays\n",
    "    imgs.remove(fileJpg)\n",
    "    xmls.remove(fileXml)\n",
    "\n",
    "\n",
    "\n",
    "#cycle for test dir   \n",
    "for x in range(countForVal):\n",
    "\n",
    "    fileJpg = choice(imgs) # get name of random image from origin dir\n",
    "    fileXml = fileJpg[:-4] +'.txt' # get name of corresponding annotation file\n",
    "\n",
    "    #move both files into train dir\n",
    "    #shutil.move(os.path.join(crsPath, fileJpg), os.path.join(valimagePath, fileJpg))\n",
    "    #shutil.move(os.path.join(crsPath, fileXml), os.path.join(vallabelPath, fileXml))\n",
    "    shutil.copy(os.path.join(crsPath, fileJpg), os.path.join(valimagePath, fileJpg))\n",
    "    shutil.copy(os.path.join(crsPath, fileXml), os.path.join(vallabelPath, fileXml))\n",
    "    \n",
    "    #remove files from arrays\n",
    "    imgs.remove(fileJpg)\n",
    "    xmls.remove(fileXml)\n",
    "\n",
    "#rest of files will be validation files, so rename origin dir to val dir\n",
    "#os.rename(crsPath, valPath)\n",
    "shutil.move(crsPath, valPath)"
   ]
  },
  {
   "cell_type": "code",
   "execution_count": 38,
   "id": "c5cfe913",
   "metadata": {},
   "outputs": [
    {
     "name": "stderr",
     "output_type": "stream",
     "text": [
      "Traceback (most recent call last):\n",
      "  File \"C:\\Users\\admin\\anaconda3\\lib\\site-packages\\git\\__init__.py\", line 89, in <module>\n",
      "    refresh()\n",
      "  File \"C:\\Users\\admin\\anaconda3\\lib\\site-packages\\git\\__init__.py\", line 76, in refresh\n",
      "    if not Git.refresh(path=path):\n",
      "  File \"C:\\Users\\admin\\anaconda3\\lib\\site-packages\\git\\cmd.py\", line 389, in refresh\n",
      "    raise ImportError(err)\n",
      "ImportError: Bad git executable.\n",
      "The git executable must be specified in one of the following ways:\n",
      "    - be included in your $PATH\n",
      "    - be set via $GIT_PYTHON_GIT_EXECUTABLE\n",
      "    - explicitly set via git.refresh()\n",
      "\n",
      "All git commands will error until this is rectified.\n",
      "\n",
      "This initial warning can be silenced or aggravated in the future by setting the\n",
      "$GIT_PYTHON_REFRESH environment variable. Use one of the following values:\n",
      "    - quiet|q|silence|s|none|n|0: for no warning or exception\n",
      "    - warn|w|warning|1: for a printed warning\n",
      "    - error|e|raise|r|2: for a raised exception\n",
      "\n",
      "Example:\n",
      "    export GIT_PYTHON_REFRESH=quiet\n",
      "\n",
      "\n",
      "The above exception was the direct cause of the following exception:\n",
      "\n",
      "Traceback (most recent call last):\n",
      "  File \"C:\\Users\\admin\\yolov5\\train.py\", line 66, in <module>\n",
      "    GIT_INFO = check_git_info()\n",
      "  File \"C:\\Users\\admin\\anaconda3\\lib\\contextlib.py\", line 79, in inner\n",
      "    return func(*args, **kwds)\n",
      "  File \"C:\\Users\\admin\\yolov5\\utils\\general.py\", line 350, in check_git_info\n",
      "    import git\n",
      "  File \"C:\\Users\\admin\\anaconda3\\lib\\site-packages\\git\\__init__.py\", line 91, in <module>\n",
      "    raise ImportError(\"Failed to initialize: {0}\".format(exc)) from exc\n",
      "ImportError: Failed to initialize: Bad git executable.\n",
      "The git executable must be specified in one of the following ways:\n",
      "    - be included in your $PATH\n",
      "    - be set via $GIT_PYTHON_GIT_EXECUTABLE\n",
      "    - explicitly set via git.refresh()\n",
      "\n",
      "All git commands will error until this is rectified.\n",
      "\n",
      "This initial warning can be silenced or aggravated in the future by setting the\n",
      "$GIT_PYTHON_REFRESH environment variable. Use one of the following values:\n",
      "    - quiet|q|silence|s|none|n|0: for no warning or exception\n",
      "    - warn|w|warning|1: for a printed warning\n",
      "    - error|e|raise|r|2: for a raised exception\n",
      "\n",
      "Example:\n",
      "    export GIT_PYTHON_REFRESH=quiet\n",
      "\n"
     ]
    }
   ],
   "source": [
    "!python train.py --img 415 --batch 16 --epochs 30 --data /C:/Users/admin/yolov5_traffic_sign_detection/dataset/dataset.yaml --weights yolov5s.pt --cache"
   ]
  },
  {
   "cell_type": "code",
   "execution_count": null,
   "id": "6f39ed44",
   "metadata": {},
   "outputs": [],
   "source": []
  }
 ],
 "metadata": {
  "kernelspec": {
   "display_name": "Python 3 (ipykernel)",
   "language": "python",
   "name": "python3"
  },
  "language_info": {
   "codemirror_mode": {
    "name": "ipython",
    "version": 3
   },
   "file_extension": ".py",
   "mimetype": "text/x-python",
   "name": "python",
   "nbconvert_exporter": "python",
   "pygments_lexer": "ipython3",
   "version": "3.9.13"
  }
 },
 "nbformat": 4,
 "nbformat_minor": 5
}
